{
 "cells": [
  {
   "cell_type": "code",
   "execution_count": 1,
   "metadata": {},
   "outputs": [],
   "source": [
    "import numpy as np\n",
    "import os\n",
    "%load_ext autoreload\n",
    "%autoreload 2\n",
    "from PIL import Image \n",
    "from IPython.display import clear_output\n",
    "from matplotlib.pyplot import imshow \n",
    "import matplotlib.pyplot as plt\n",
    "import PIL\n",
    "import torch\n",
    "import pandas as pd\n",
    "%matplotlib inline"
   ]
  },
  {
   "cell_type": "markdown",
   "metadata": {},
   "source": [
    "### Add path to project "
   ]
  },
  {
   "cell_type": "code",
   "execution_count": 2,
   "metadata": {},
   "outputs": [],
   "source": [
    "import sys\n",
    "sys.path\n",
    "sys.path.append('/home/vage/PycharmProjects/Deep-Vectorization-of-Technical-Drawings/')"
   ]
  },
  {
   "cell_type": "code",
   "execution_count": 3,
   "metadata": {},
   "outputs": [],
   "source": [
    "from util_files.rendering.cairo  import render,render_with_skeleton\n",
    "from util_files.data.graphics_primitives import PT_LINE,  PT_CBEZIER, PT_QBEZIER"
   ]
  },
  {
   "cell_type": "code",
   "execution_count": 4,
   "metadata": {},
   "outputs": [],
   "source": [
    "# Lets make for example 3 random quadratic bezier and 2 lines from interval (0,1)"
   ]
  },
  {
   "cell_type": "code",
   "execution_count": 39,
   "metadata": {},
   "outputs": [],
   "source": [
    "curves  = np.random.rand(3,6)\n",
    "curve_width = np.random.rand(3)*7 # (to make width from 0 to 7 pixel )\n",
    "\n",
    "lines  = np.random.rand(3,4)\n",
    "lines_width = np.random.rand(3)*7 # (to make width from 0 to 7 pixel )"
   ]
  },
  {
   "cell_type": "code",
   "execution_count": 40,
   "metadata": {},
   "outputs": [],
   "source": [
    "# define canvas dimensions"
   ]
  },
  {
   "cell_type": "code",
   "execution_count": 41,
   "metadata": {},
   "outputs": [],
   "source": [
    "dimensions = 128"
   ]
  },
  {
   "cell_type": "code",
   "execution_count": 42,
   "metadata": {},
   "outputs": [],
   "source": [
    "# make your coordinates from (0,1) to bounded by canvas size "
   ]
  },
  {
   "cell_type": "code",
   "execution_count": 43,
   "metadata": {},
   "outputs": [],
   "source": [
    "curves = curves *dimensions\n",
    "lines  = lines *dimensions"
   ]
  },
  {
   "cell_type": "code",
   "execution_count": 44,
   "metadata": {},
   "outputs": [],
   "source": [
    "#concatenate curves parameter and curve with(curve with as last paraqmeter)"
   ]
  },
  {
   "cell_type": "code",
   "execution_count": 45,
   "metadata": {},
   "outputs": [
    {
     "data": {
      "text/plain": [
       "(3, 7)"
      ]
     },
     "execution_count": 45,
     "metadata": {},
     "output_type": "execute_result"
    }
   ],
   "source": [
    "np.concatenate((curves, curve_width[...,None]),axis=1).shape"
   ]
  },
  {
   "cell_type": "code",
   "execution_count": 46,
   "metadata": {},
   "outputs": [],
   "source": [
    "# Define dictionary with ptimitives (PT_LINE, PT_QBEZIER)"
   ]
  },
  {
   "cell_type": "code",
   "execution_count": 47,
   "metadata": {},
   "outputs": [],
   "source": [
    "a ={PT_QBEZIER:np.concatenate((curves , curve_width[...,None]),axis=1),PT_LINE:np.concatenate((lines, lines_width[...,None]),axis=1)}"
   ]
  },
  {
   "cell_type": "code",
   "execution_count": 48,
   "metadata": {},
   "outputs": [],
   "source": [
    "# To render image call render or render_with_skeleton function from util_files.rendering.cairo \n"
   ]
  },
  {
   "cell_type": "code",
   "execution_count": 49,
   "metadata": {},
   "outputs": [],
   "source": [
    "rendered_image = render(a,(dimensions,dimensions), data_representation='vahe',linecaps='round')\n",
    "#For primitives format (number_priimtives,primitive_params), data_representation should be vahe.\n",
    "#You could alsoo render if format"
   ]
  },
  {
   "cell_type": "code",
   "execution_count": 50,
   "metadata": {},
   "outputs": [
    {
     "data": {
      "text/plain": [
       "<matplotlib.image.AxesImage at 0x7f89f9a75400>"
      ]
     },
     "execution_count": 50,
     "metadata": {},
     "output_type": "execute_result"
    },
    {
     "data": {
      "image/png": "[encoded data removed]",
      "text/plain": [
       "<Figure size 432x288 with 1 Axes>"
      ]
     },
     "metadata": {
      "needs_background": "light"
     },
     "output_type": "display_data"
    }
   ],
   "source": [
    "plt.imshow(rendered_image,'gray')"
   ]
  },
  {
   "cell_type": "code",
   "execution_count": 56,
   "metadata": {},
   "outputs": [
    {
     "name": "stdout",
     "output_type": "stream",
     "text": [
      "[[ 84.19966973 109.76010808  84.22535816 107.38562636  34.35409299\n",
      "  125.61058672]\n",
      " [ 11.71686681  31.76758876  73.44613283 118.99210041  26.86816371\n",
      "   41.16866951]\n",
      " [100.81853379  46.27104913  93.70190275  62.02633533   9.82906129\n",
      "   51.70005238]] [0.01925638 0.69412293 0.25201525]\n"
     ]
    }
   ],
   "source": [
    "print(curves, curve_width)"
   ]
  },
  {
   "cell_type": "code",
   "execution_count": 57,
   "metadata": {},
   "outputs": [
    {
     "name": "stdout",
     "output_type": "stream",
     "text": [
      "[[  7.27823925   3.94246331  84.02630513  45.75096918]\n",
      " [  2.7607725  126.81282717  44.74563228  90.1399291 ]\n",
      " [113.61141461  17.55551693  40.88136935 103.89383666]] [0.38831483 4.7262562  4.81894544]\n"
     ]
    }
   ],
   "source": [
    "print(lines, lines_width)"
   ]
  },
  {
   "cell_type": "code",
   "execution_count": null,
   "metadata": {},
   "outputs": [],
   "source": [
    "# "
   ]
  }
 ],
 "metadata": {
  "kernelspec": {
   "display_name": "Python 3",
   "language": "python",
   "name": "python3"
  },
  "language_info": {
   "codemirror_mode": {
    "name": "ipython",
    "version": 3
   },
   "file_extension": ".py",
   "mimetype": "text/x-python",
   "name": "python",
   "nbconvert_exporter": "python",
   "pygments_lexer": "ipython3",
   "version": "3.6.9"
  }
 },
 "nbformat": 4,
 "nbformat_minor": 2
}
