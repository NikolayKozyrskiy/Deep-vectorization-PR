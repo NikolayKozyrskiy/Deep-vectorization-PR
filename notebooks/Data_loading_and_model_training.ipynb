{
 "cells": [
  {
   "cell_type": "code",
   "execution_count": 1,
   "metadata": {},
   "outputs": [],
   "source": [
    "import numpy as np\n",
    "import torch as th\n",
    "import os\n",
    "%load_ext autoreload\n",
    "%autoreload 2\n",
    "from PIL import Image \n",
    "from IPython.display import clear_output\n",
    "from matplotlib.pyplot import imshow \n",
    "import matplotlib.pyplot as plt\n",
    "import PIL\n",
    "import torch\n",
    "\n",
    "from itertools import islice\n",
    "from torchvision.transforms.functional import to_tensor\n",
    "\n",
    "import pandas as pd\n",
    "%matplotlib inline"
   ]
  },
  {
   "cell_type": "markdown",
   "metadata": {},
   "source": [
    "# Add path to project "
   ]
  },
  {
   "cell_type": "code",
   "execution_count": 2,
   "metadata": {},
   "outputs": [],
   "source": [
    "import sys\n",
    "sys.path\n",
    "sys.path.append('/home/vage/PycharmProjects/Deep-Vectorization-of-Technical-Drawings/')"
   ]
  },
  {
   "cell_type": "code",
   "execution_count": 3,
   "metadata": {},
   "outputs": [
    {
     "name": "stderr",
     "output_type": "stream",
     "text": [
      "/home/vage/anaconda3/lib/python3.6/site-packages/dask/config.py:168: YAMLLoadWarning: calling yaml.load() without Loader=... is deprecated, as the default Loader is unsafe. Please read https://msg.pyyaml.org/load for full details.\n",
      "  data = yaml.load(f.read()) or {}\n"
     ]
    }
   ],
   "source": [
    "from util_files.rendering.cairo  import render,render_with_skeleton\n",
    "from util_files.data.graphics_primitives import PT_LINE,  PT_CBEZIER, PT_QBEZIER\n",
    "import  util_files.loss_functions.supervised  as supervised_loss \n",
    "from util_files.optimization.optimizer.scheduled_optimizer import ScheduledOptimizer\n",
    "import util_files.dataloading as dataloading\n",
    "from vectorization import load_model"
   ]
  },
  {
   "cell_type": "markdown",
   "metadata": {},
   "source": [
    "# Parameters"
   ]
  },
  {
   "cell_type": "code",
   "execution_count": 4,
   "metadata": {},
   "outputs": [],
   "source": [
    "device = torch.device('cuda:{}'.format(0))\n",
    "prefetch_data = True\n",
    "batches_completed_in_epoch=0\n",
    "epoch_size = 20000\n",
    "curve_count = 10\n",
    "model_type = \"model\""
   ]
  },
  {
   "cell_type": "markdown",
   "metadata": {},
   "source": [
    "# Data loading"
   ]
  },
  {
   "cell_type": "code",
   "execution_count": 5,
   "metadata": {},
   "outputs": [],
   "source": [
    "def prepare_batch_on_device(batch_data, device):\n",
    "    images, y_true = batch_data\n",
    "    images = images.to(device)\n",
    "    y_true = y_true.to(device)\n",
    "    return images, y_true"
   ]
  },
  {
   "cell_type": "code",
   "execution_count": 6,
   "metadata": {},
   "outputs": [],
   "source": [
    "make_loaders_fn = dataloading.prepare_loaders[\"abc\"]\n",
    "\n",
    "#data root is folder where folder abc with memory maped files are\n",
    "loader_params = dict(data_root='/home/vage/PycharmProjects/data/preprocessed/', train_batch_size=64,\n",
    "                         val_batch_size=64,\n",
    "                         mini_val_batches_n_per_subset=16,\n",
    "                         memory_constraint=8e+9,\n",
    "                         shuffle_train=True, prefetch=prefetch_data, device=device)\n"
   ]
  },
  {
   "cell_type": "code",
   "execution_count": 7,
   "metadata": {},
   "outputs": [],
   "source": [
    "train_loader, val_loader, val_mini_loader = make_loaders_fn(**loader_params)"
   ]
  },
  {
   "cell_type": "code",
   "execution_count": 13,
   "metadata": {},
   "outputs": [
    {
     "name": "stderr",
     "output_type": "stream",
     "text": [
      "Process Process-4:\n",
      "Traceback (most recent call last):\n",
      "  File \"/home/vage/anaconda3/lib/python3.6/multiprocessing/process.py\", line 258, in _bootstrap\n",
      "    self.run()\n",
      "  File \"/home/vage/anaconda3/lib/python3.6/multiprocessing/process.py\", line 93, in run\n",
      "    self._target(*self._args, **self._kwargs)\n",
      "  File \"/home/vage/PycharmProjects/Deep-Vectorization-of-Technical-Drawings/util_files/data/chunked.py\", line 76, in fill_next_chunk\n",
      "    self.data.write_next_to(self.input_buffers[self.next_buffer_i], self.target_buffers[self.next_buffer_i])\n",
      "  File \"/home/vage/PycharmProjects/Deep-Vectorization-of-Technical-Drawings/util_files/data/chunked.py\", line 96, in write_next_to\n",
      "    inputs[:size] = self.dataset.images[self.head : self.head + size]\n",
      "RuntimeError: The expanded size of the tensor (46960) must match the existing size (0) at non-singleton dimension 0.  Target sizes: [46960, 3, 64, 64].  Tensor sizes: [0, 3, 64, 64]\n"
     ]
    }
   ],
   "source": [
    "for batch_i, batch_data in islice(enumerate(train_loader), batches_completed_in_epoch, len(train_loader)):\n",
    "    images, target =  prepare_batch_on_device(batch_data, device)\n",
    "    break"
   ]
  },
  {
   "cell_type": "markdown",
   "metadata": {},
   "source": [
    "# Model loading "
   ]
  },
  {
   "cell_type": "code",
   "execution_count": null,
   "metadata": {},
   "outputs": [],
   "source": [
    "# in json file you can chose model type and it's parameters as in examples in vectorization/models/specs/ folder"
   ]
  },
  {
   "cell_type": "code",
   "execution_count": 10,
   "metadata": {},
   "outputs": [],
   "source": [
    "# chose json file \n",
    "model_json_param = '/home/vage/PycharmProjects/Deep-Vectorization-of-Technical-Drawings/vectorization/models/specs/resnet18_blocks1_bn_64__c2h__trans_heads1_feat256_blocks4_ffmaps512__h2o__out512.json'\n",
    "#load/create model \n",
    "model = load_model(model_json_param).to(device)"
   ]
  },
  {
   "cell_type": "code",
   "execution_count": 11,
   "metadata": {},
   "outputs": [
    {
     "data": {
      "text/plain": [
       "GenericVectorizationNet(\n",
       "  (features): ResnetConv(\n",
       "    (conv): Sequential(\n",
       "      (0): Sequential(\n",
       "        (0): Conv2d(3, 64, kernel_size=(7, 7), stride=(2, 2), padding=(3, 3), bias=False)\n",
       "        (1): MaybeModule(True) BatchNorm2d(64, eps=1e-05, momentum=0.1, affine=True, track_running_stats=True)\n",
       "        (2): LeakyReLU(negative_slope=0.01, inplace=True)\n",
       "        (3): MaxPool2d(kernel_size=3, stride=2, padding=1, dilation=1, ceil_mode=False)\n",
       "      )\n",
       "      (1): Sequential(\n",
       "        (0): BasicBlock(\n",
       "          (relu): LeakyReLU(negative_slope=0.01, inplace=True)\n",
       "          (conv): Sequential(\n",
       "            (0): Conv2d(64, 64, kernel_size=(3, 3), stride=(1, 1), padding=(1, 1), bias=False)\n",
       "            (1): MaybeModule(True) BatchNorm2d(64, eps=1e-05, momentum=0.1, affine=True, track_running_stats=True)\n",
       "            (2): LeakyReLU(negative_slope=0.01, inplace=True)\n",
       "            (3): Conv2d(64, 64, kernel_size=(3, 3), stride=(1, 1), padding=(1, 1), bias=False)\n",
       "            (4): MaybeModule(True) BatchNorm2d(64, eps=1e-05, momentum=0.1, affine=True, track_running_stats=True)\n",
       "          )\n",
       "        )\n",
       "        (1): BasicBlock(\n",
       "          (relu): LeakyReLU(negative_slope=0.01, inplace=True)\n",
       "          (conv): Sequential(\n",
       "            (0): Conv2d(64, 64, kernel_size=(3, 3), stride=(1, 1), padding=(1, 1), bias=False)\n",
       "            (1): MaybeModule(True) BatchNorm2d(64, eps=1e-05, momentum=0.1, affine=True, track_running_stats=True)\n",
       "            (2): LeakyReLU(negative_slope=0.01, inplace=True)\n",
       "            (3): Conv2d(64, 64, kernel_size=(3, 3), stride=(1, 1), padding=(1, 1), bias=False)\n",
       "            (4): MaybeModule(True) BatchNorm2d(64, eps=1e-05, momentum=0.1, affine=True, track_running_stats=True)\n",
       "          )\n",
       "        )\n",
       "      )\n",
       "    )\n",
       "  )\n",
       "  (hidden): TransformerDecoder(\n",
       "    (decoder): _InternalSequentialTransformerDecoder(\n",
       "      (transformer): Sequential(\n",
       "        (0): TransformerLayer(\n",
       "          (slf_attn): MultiHeadAttention(\n",
       "            (attention): ScaledDotProductAttention(\n",
       "              (dropout): Dropout(p=0.0, inplace=False)\n",
       "              (softmax): BottleSoftmax(dim=-1)\n",
       "            )\n",
       "            (proj): Linear(\n",
       "              (linear): Linear(in_features=256, out_features=256, bias=True)\n",
       "            )\n",
       "            (layer_norm): LayerNormalization()\n",
       "            (dropout): Dropout(p=0.1, inplace=False)\n",
       "          )\n",
       "          (enc_attn): MultiHeadAttention(\n",
       "            (attention): ScaledDotProductAttention(\n",
       "              (dropout): Dropout(p=0.0, inplace=False)\n",
       "              (softmax): BottleSoftmax(dim=-1)\n",
       "            )\n",
       "            (proj): Linear(\n",
       "              (linear): Linear(in_features=256, out_features=256, bias=True)\n",
       "            )\n",
       "            (layer_norm): LayerNormalization()\n",
       "            (dropout): Dropout(p=0.1, inplace=False)\n",
       "          )\n",
       "          (pos_ffn): PositionwiseFeedForward(\n",
       "            (w_1): Conv1d(256, 512, kernel_size=(1,), stride=(1,))\n",
       "            (w_2): Conv1d(512, 256, kernel_size=(1,), stride=(1,))\n",
       "            (layer_norm): LayerNormalization()\n",
       "            (dropout): Dropout(p=0.1, inplace=False)\n",
       "            (relu): ReLU()\n",
       "          )\n",
       "        )\n",
       "        (1): TransformerLayer(\n",
       "          (slf_attn): MultiHeadAttention(\n",
       "            (attention): ScaledDotProductAttention(\n",
       "              (dropout): Dropout(p=0.0, inplace=False)\n",
       "              (softmax): BottleSoftmax(dim=-1)\n",
       "            )\n",
       "            (proj): Linear(\n",
       "              (linear): Linear(in_features=256, out_features=256, bias=True)\n",
       "            )\n",
       "            (layer_norm): LayerNormalization()\n",
       "            (dropout): Dropout(p=0.1, inplace=False)\n",
       "          )\n",
       "          (enc_attn): MultiHeadAttention(\n",
       "            (attention): ScaledDotProductAttention(\n",
       "              (dropout): Dropout(p=0.0, inplace=False)\n",
       "              (softmax): BottleSoftmax(dim=-1)\n",
       "            )\n",
       "            (proj): Linear(\n",
       "              (linear): Linear(in_features=256, out_features=256, bias=True)\n",
       "            )\n",
       "            (layer_norm): LayerNormalization()\n",
       "            (dropout): Dropout(p=0.1, inplace=False)\n",
       "          )\n",
       "          (pos_ffn): PositionwiseFeedForward(\n",
       "            (w_1): Conv1d(256, 512, kernel_size=(1,), stride=(1,))\n",
       "            (w_2): Conv1d(512, 256, kernel_size=(1,), stride=(1,))\n",
       "            (layer_norm): LayerNormalization()\n",
       "            (dropout): Dropout(p=0.1, inplace=False)\n",
       "            (relu): ReLU()\n",
       "          )\n",
       "        )\n",
       "        (2): TransformerLayer(\n",
       "          (slf_attn): MultiHeadAttention(\n",
       "            (attention): ScaledDotProductAttention(\n",
       "              (dropout): Dropout(p=0.0, inplace=False)\n",
       "              (softmax): BottleSoftmax(dim=-1)\n",
       "            )\n",
       "            (proj): Linear(\n",
       "              (linear): Linear(in_features=256, out_features=256, bias=True)\n",
       "            )\n",
       "            (layer_norm): LayerNormalization()\n",
       "            (dropout): Dropout(p=0.1, inplace=False)\n",
       "          )\n",
       "          (enc_attn): MultiHeadAttention(\n",
       "            (attention): ScaledDotProductAttention(\n",
       "              (dropout): Dropout(p=0.0, inplace=False)\n",
       "              (softmax): BottleSoftmax(dim=-1)\n",
       "            )\n",
       "            (proj): Linear(\n",
       "              (linear): Linear(in_features=256, out_features=256, bias=True)\n",
       "            )\n",
       "            (layer_norm): LayerNormalization()\n",
       "            (dropout): Dropout(p=0.1, inplace=False)\n",
       "          )\n",
       "          (pos_ffn): PositionwiseFeedForward(\n",
       "            (w_1): Conv1d(256, 512, kernel_size=(1,), stride=(1,))\n",
       "            (w_2): Conv1d(512, 256, kernel_size=(1,), stride=(1,))\n",
       "            (layer_norm): LayerNormalization()\n",
       "            (dropout): Dropout(p=0.1, inplace=False)\n",
       "            (relu): ReLU()\n",
       "          )\n",
       "        )\n",
       "        (3): TransformerLayer(\n",
       "          (slf_attn): MultiHeadAttention(\n",
       "            (attention): ScaledDotProductAttention(\n",
       "              (dropout): Dropout(p=0.0, inplace=False)\n",
       "              (softmax): BottleSoftmax(dim=-1)\n",
       "            )\n",
       "            (proj): Linear(\n",
       "              (linear): Linear(in_features=256, out_features=256, bias=True)\n",
       "            )\n",
       "            (layer_norm): LayerNormalization()\n",
       "            (dropout): Dropout(p=0.1, inplace=False)\n",
       "          )\n",
       "          (enc_attn): MultiHeadAttention(\n",
       "            (attention): ScaledDotProductAttention(\n",
       "              (dropout): Dropout(p=0.0, inplace=False)\n",
       "              (softmax): BottleSoftmax(dim=-1)\n",
       "            )\n",
       "            (proj): Linear(\n",
       "              (linear): Linear(in_features=256, out_features=256, bias=True)\n",
       "            )\n",
       "            (layer_norm): LayerNormalization()\n",
       "            (dropout): Dropout(p=0.1, inplace=False)\n",
       "          )\n",
       "          (pos_ffn): PositionwiseFeedForward(\n",
       "            (w_1): Conv1d(256, 512, kernel_size=(1,), stride=(1,))\n",
       "            (w_2): Conv1d(512, 256, kernel_size=(1,), stride=(1,))\n",
       "            (layer_norm): LayerNormalization()\n",
       "            (dropout): Dropout(p=0.1, inplace=False)\n",
       "            (relu): ReLU()\n",
       "          )\n",
       "        )\n",
       "      )\n",
       "    )\n",
       "  )\n",
       "  (output): Output(\n",
       "    (final_fc): Linear(in_features=512, out_features=8, bias=True)\n",
       "    (final_tanh): Tanh()\n",
       "    (final_sigm): Sigmoid()\n",
       "  )\n",
       "  (fc_from_conv): MaybeModule(True) ConvAdapter(\n",
       "    (block): Sequential(\n",
       "      (0): Conv2d(64, 256, kernel_size=(1, 1), stride=(1, 1))\n",
       "      (1): MaybeModule(True) BatchNorm2d(256, eps=1e-05, momentum=0.1, affine=True, track_running_stats=True)\n",
       "      (2): LeakyReLU(negative_slope=0.01, inplace=True)\n",
       "    )\n",
       "  )\n",
       "  (fc_from_hidden): MaybeModule(True) TransformerAdapter(\n",
       "    (block): Sequential(\n",
       "      (0): Conv1d(256, 512, kernel_size=(1,), stride=(1,))\n",
       "      (1): MaybeModule(False) BatchNorm1d(512, eps=1e-05, momentum=0.1, affine=True, track_running_stats=True)\n",
       "      (2): LeakyReLU(negative_slope=0.01, inplace=True)\n",
       "    )\n",
       "  )\n",
       ")"
      ]
     },
     "execution_count": 11,
     "metadata": {},
     "output_type": "execute_result"
    }
   ],
   "source": [
    "model "
   ]
  },
  {
   "cell_type": "markdown",
   "metadata": {},
   "source": [
    "# Loading Loss function"
   ]
  },
  {
   "cell_type": "code",
   "execution_count": 7,
   "metadata": {},
   "outputs": [],
   "source": [
    "# Here you are chosing between 'vectran_loss','vectran_mapping_L2','vectran_mapping_L1','pseudoLap1_loop' ,\n",
    "#'pseudoLap1_no_loop','lovasz_hinge'. Code for this losses you can find util_files.loss_functions.supervised.\n",
    "make_loss_fn = supervised_loss.prepare_losses[\"vectran_loss\"]"
   ]
  },
  {
   "cell_type": "markdown",
   "metadata": {},
   "source": [
    "## Use case \n",
    "\n",
    "loss = make_loss_fn(y_pred, y_true, l2_weight=0.5)"
   ]
  },
  {
   "cell_type": "markdown",
   "metadata": {},
   "source": [
    "# Optimizer"
   ]
  },
  {
   "cell_type": "code",
   "execution_count": 12,
   "metadata": {},
   "outputs": [],
   "source": [
    "optimizer = ScheduledOptimizer(\n",
    "    torch.optim.Adam(\n",
    "        filter(lambda x: x.requires_grad, model.parameters()),\n",
    "        betas=(0.9, 0.98), eps=1e-09),\n",
    "    1000, 4000)"
   ]
  },
  {
   "cell_type": "markdown",
   "metadata": {},
   "source": [
    "# Model training"
   ]
  },
  {
   "cell_type": "code",
   "execution_count": null,
   "metadata": {},
   "outputs": [],
   "source": [
    "for epoch_i in range(epoch_size):\n",
    "    for batch_i, batch_data in islice(enumerate(train_loader), batches_completed_in_epoch, len(train_loader)):\n",
    "        images, target =  prepare_batch_on_device(batch_data, device) \n",
    "        out = model(images[:,:1,...],10)\n",
    "        loss = make_loss_fn(y_pred, y_true, l2_weight=0.5)\n",
    "        loss.backward()\n",
    "        optimizer.step_and_update_lr()\n",
    "        optimizer.zero_grad()"
   ]
  }
 ],
 "metadata": {
  "kernelspec": {
   "display_name": "Python 3",
   "language": "python",
   "name": "python3"
  },
  "language_info": {
   "codemirror_mode": {
    "name": "ipython",
    "version": 3
   },
   "file_extension": ".py",
   "mimetype": "text/x-python",
   "name": "python",
   "nbconvert_exporter": "python",
   "pygments_lexer": "ipython3",
   "version": "3.6.9"
  }
 },
 "nbformat": 4,
 "nbformat_minor": 2
}
